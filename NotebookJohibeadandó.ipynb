{
    "metadata": {
        "kernelspec": {
            "name": "SQL",
            "display_name": "SQL",
            "language": "sql"
        },
        "language_info": {
            "name": "sql",
            "version": ""
        }
    },
    "nbformat_minor": 2,
    "nbformat": 4,
    "cells": [
        {
            "cell_type": "code",
            "source": [
                "SELECT SZALLAS_FK, COUNT(SZOBA_ID) AS SzobakSzama\r\n",
                "FROM Szoba\r\n",
                "GROUP BY SZALLAS_FK;\r\n",
                ""
            ],
            "metadata": {
                "azdata_cell_guid": "8f28c30a-8692-4eed-a9f5-a72632e8c192",
                "language": "sql"
            },
            "outputs": [
                {
                    "output_type": "error",
                    "evalue": "Msg 208, Level 16, State 1, Line 1\r\nInvalid object name 'Szoba'.",
                    "ename": "",
                    "traceback": []
                },
                {
                    "output_type": "display_data",
                    "data": {
                        "text/html": "Total execution time: 00:00:00.038"
                    },
                    "metadata": {}
                }
            ],
            "execution_count": 13
        },
        {
            "cell_type": "code",
            "source": [
                "SELECT KLIMAS, COUNT(SZOBA_ID) AS SzobakSzama\r\n",
                "FROM Szoba\r\n",
                "GROUP BY KLIMAS;"
            ],
            "metadata": {
                "azdata_cell_guid": "a7d70457-eee9-44bd-95ec-5820fe21faf7",
                "language": "sql"
            },
            "outputs": [
                {
                    "output_type": "error",
                    "evalue": "Msg 208, Level 16, State 1, Line 1\r\nInvalid object name 'Szoba'.",
                    "ename": "",
                    "traceback": []
                },
                {
                    "output_type": "display_data",
                    "data": {
                        "text/html": "Total execution time: 00:00:00.038"
                    },
                    "metadata": {}
                }
            ],
            "execution_count": 14
        },
        {
            "cell_type": "code",
            "source": [
                "SELECT *,\r\n",
                "       RANK() OVER (PARTITION BY SZALLAS_FK ORDER BY SZOBA_SZAMA) AS SzobaRang\r\n",
                "FROM Szoba;"
            ],
            "metadata": {
                "azdata_cell_guid": "f4809068-2dcd-4409-9a06-c1eddcf2aa90",
                "language": "sql"
            },
            "outputs": [
                {
                    "output_type": "error",
                    "evalue": "Msg 208, Level 16, State 1, Line 1\r\nInvalid object name 'Szoba'.",
                    "ename": "",
                    "traceback": []
                },
                {
                    "output_type": "display_data",
                    "data": {
                        "text/html": "Total execution time: 00:00:00.038"
                    },
                    "metadata": {}
                }
            ],
            "execution_count": 15
        },
        {
            "cell_type": "code",
            "source": [
                "SELECT SZALLAS_FK, SUM(FEROHELY) AS OsszFerohely\r\n",
                "FROM Szoba\r\n",
                "GROUP BY SZALLAS_FK;"
            ],
            "metadata": {
                "azdata_cell_guid": "c24a3c59-62ad-4789-b35d-f82592a31ad5",
                "language": "sql"
            },
            "outputs": [
                {
                    "output_type": "display_data",
                    "data": {
                        "text/html": "(20 rows affected)"
                    },
                    "metadata": {}
                },
                {
                    "output_type": "display_data",
                    "data": {
                        "text/html": "Total execution time: 00:00:00.049"
                    },
                    "metadata": {}
                },
                {
                    "output_type": "execute_result",
                    "execution_count": 3,
                    "data": {
                        "application/vnd.dataresource+json": {
                            "schema": {
                                "fields": [
                                    {
                                        "name": "SZALLAS_FK"
                                    },
                                    {
                                        "name": "OsszFerohely"
                                    }
                                ]
                            },
                            "data": [
                                {
                                    "SZALLAS_FK": "1",
                                    "OsszFerohely": "31"
                                },
                                {
                                    "SZALLAS_FK": "2",
                                    "OsszFerohely": "11"
                                },
                                {
                                    "SZALLAS_FK": "3",
                                    "OsszFerohely": "22"
                                },
                                {
                                    "SZALLAS_FK": "4",
                                    "OsszFerohely": "37"
                                },
                                {
                                    "SZALLAS_FK": "5",
                                    "OsszFerohely": "27"
                                },
                                {
                                    "SZALLAS_FK": "6",
                                    "OsszFerohely": "83"
                                },
                                {
                                    "SZALLAS_FK": "7",
                                    "OsszFerohely": "16"
                                },
                                {
                                    "SZALLAS_FK": "8",
                                    "OsszFerohely": "93"
                                },
                                {
                                    "SZALLAS_FK": "9",
                                    "OsszFerohely": "13"
                                },
                                {
                                    "SZALLAS_FK": "10",
                                    "OsszFerohely": "59"
                                },
                                {
                                    "SZALLAS_FK": "11",
                                    "OsszFerohely": "12"
                                },
                                {
                                    "SZALLAS_FK": "12",
                                    "OsszFerohely": "123"
                                },
                                {
                                    "SZALLAS_FK": "13",
                                    "OsszFerohely": "29"
                                },
                                {
                                    "SZALLAS_FK": "14",
                                    "OsszFerohely": "10"
                                },
                                {
                                    "SZALLAS_FK": "15",
                                    "OsszFerohely": "30"
                                },
                                {
                                    "SZALLAS_FK": "16",
                                    "OsszFerohely": "43"
                                },
                                {
                                    "SZALLAS_FK": "17",
                                    "OsszFerohely": "36"
                                },
                                {
                                    "SZALLAS_FK": "18",
                                    "OsszFerohely": "8"
                                },
                                {
                                    "SZALLAS_FK": "19",
                                    "OsszFerohely": "8"
                                },
                                {
                                    "SZALLAS_FK": "20",
                                    "OsszFerohely": "24"
                                }
                            ]
                        },
                        "text/html": "<table><tr><th>SZALLAS_FK</th><th>OsszFerohely</th></tr><tr><td>1</td><td>31</td></tr><tr><td>2</td><td>11</td></tr><tr><td>3</td><td>22</td></tr><tr><td>4</td><td>37</td></tr><tr><td>5</td><td>27</td></tr><tr><td>6</td><td>83</td></tr><tr><td>7</td><td>16</td></tr><tr><td>8</td><td>93</td></tr><tr><td>9</td><td>13</td></tr><tr><td>10</td><td>59</td></tr><tr><td>11</td><td>12</td></tr><tr><td>12</td><td>123</td></tr><tr><td>13</td><td>29</td></tr><tr><td>14</td><td>10</td></tr><tr><td>15</td><td>30</td></tr><tr><td>16</td><td>43</td></tr><tr><td>17</td><td>36</td></tr><tr><td>18</td><td>8</td></tr><tr><td>19</td><td>8</td></tr><tr><td>20</td><td>24</td></tr></table>"
                    },
                    "metadata": {}
                }
            ],
            "execution_count": 3
        },
        {
            "cell_type": "code",
            "source": [
                "SELECT SZOBA_ID, SZOBA_SZAMA, FEROHELY,\r\n",
                "       AVG(FEROHELY) OVER () AS AtlagosFerohely\r\n",
                "FROM Szoba;"
            ],
            "metadata": {
                "azdata_cell_guid": "4d809243-8127-4eb1-bbcd-6f92a84e6d85",
                "language": "sql"
            },
            "outputs": [
                {
                    "output_type": "error",
                    "evalue": "Msg 208, Level 16, State 1, Line 1\r\nInvalid object name 'Szoba'.",
                    "ename": "",
                    "traceback": []
                },
                {
                    "output_type": "display_data",
                    "data": {
                        "text/html": "Total execution time: 00:00:00.038"
                    },
                    "metadata": {}
                }
            ],
            "execution_count": 4
        },
        {
            "cell_type": "code",
            "source": [
                "ALTER TABLE Szoba\r\n",
                "ADD FOGLALT BOOL NULL; "
            ],
            "metadata": {
                "azdata_cell_guid": "ec1d887e-5a72-4ae5-ab5d-6dc5b0737517",
                "language": "sql"
            },
            "outputs": [
                {
                    "output_type": "error",
                    "evalue": "Msg 4902, Level 16, State 1, Line 1\r\nCannot find the object \"Szoba\" because it does not exist or you do not have permissions.",
                    "ename": "",
                    "traceback": []
                },
                {
                    "output_type": "display_data",
                    "data": {
                        "text/html": "Total execution time: 00:00:00.038"
                    },
                    "metadata": {}
                }
            ],
            "execution_count": 5
        },
        {
            "cell_type": "code",
            "source": [
                "SELECT SZOBA_ID, SZOBA_SZAMA, FOGLALT\r\n",
                "FROM Szoba WHERE FOGLALT = 'True';"
            ],
            "metadata": {
                "azdata_cell_guid": "5abdf9bc-8234-4ccb-8d12-609a5e2bc144",
                "language": "sql"
            },
            "outputs": [
                {
                    "output_type": "error",
                    "evalue": "Msg 208, Level 16, State 1, Line 1\r\nInvalid object name 'Szoba'.",
                    "ename": "",
                    "traceback": []
                },
                {
                    "output_type": "display_data",
                    "data": {
                        "text/html": "Total execution time: 00:00:00.038"
                    },
                    "metadata": {}
                }
            ],
            "execution_count": 6
        }
    ]
}